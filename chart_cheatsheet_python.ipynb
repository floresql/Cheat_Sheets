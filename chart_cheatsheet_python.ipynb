{
 "cells": [
  {
   "cell_type": "markdown",
   "id": "19ca4ef8",
   "metadata": {},
   "source": [
    "# 📊 Chart Cheat Sheet (Python Edition)\n",
    "A quick-reference guide to help you choose the right type of chart depending on the story you want to tell — with real Python code using `matplotlib`, `seaborn`, and `pandas`.\n",
    "\n",
    "📦 Make sure to install required packages:\n",
    "```bash\n",
    "pip install matplotlib seaborn pandas numpy\n",
    "```"
   ]
  },
  {
   "cell_type": "code",
   "execution_count": null,
   "id": "8846dcc4",
   "metadata": {},
   "outputs": [],
   "source": [
    "import matplotlib.pyplot as plt\n",
    "import seaborn as sns\n",
    "import pandas as pd\n",
    "import numpy as np"
   ]
  },
  {
   "cell_type": "markdown",
   "id": "2b7ba9fd",
   "metadata": {},
   "source": [
    "## 📊 Bar Chart — Comparison"
   ]
  },
  {
   "cell_type": "code",
   "execution_count": null,
   "id": "a4b8fc6b",
   "metadata": {},
   "outputs": [],
   "source": [
    "def bar_chart():\n",
    "    categories = ['A', 'B', 'C']\n",
    "    values = [23, 45, 56]\n",
    "    plt.bar(categories, values, color='skyblue')\n",
    "    plt.title('Bar Chart Example')\n",
    "    plt.xlabel('Category')\n",
    "    plt.ylabel('Value')\n",
    "    plt.show()\n",
    "\n",
    "bar_chart()"
   ]
  },
  {
   "cell_type": "markdown",
   "id": "afccc3e1",
   "metadata": {},
   "source": [
    "## 📈 Histogram — Distribution"
   ]
  },
  {
   "cell_type": "code",
   "execution_count": null,
   "id": "db1caee1",
   "metadata": {},
   "outputs": [],
   "source": [
    "def histogram():\n",
    "    data = np.random.normal(0, 1, 1000)\n",
    "    plt.hist(data, bins=30, color='salmon')\n",
    "    plt.title('Histogram Example')\n",
    "    plt.xlabel('Value')\n",
    "    plt.ylabel('Frequency')\n",
    "    plt.show()\n",
    "\n",
    "histogram()"
   ]
  },
  {
   "cell_type": "markdown",
   "id": "8fdd7e52",
   "metadata": {},
   "source": [
    "## 🥧 Pie Chart — Composition"
   ]
  },
  {
   "cell_type": "code",
   "execution_count": null,
   "id": "fdbb2b33",
   "metadata": {},
   "outputs": [],
   "source": [
    "def pie_chart():\n",
    "    labels = ['Product A', 'Product B', 'Product C']\n",
    "    sizes = [40, 35, 25]\n",
    "    plt.pie(sizes, labels=labels, autopct='%1.1f%%', startangle=90)\n",
    "    plt.title('Pie Chart Example')\n",
    "    plt.axis('equal')\n",
    "    plt.show()\n",
    "\n",
    "pie_chart()"
   ]
  },
  {
   "cell_type": "markdown",
   "id": "7b405ece",
   "metadata": {},
   "source": [
    "## 🔄 Scatter Plot — Relationship"
   ]
  },
  {
   "cell_type": "code",
   "execution_count": null,
   "id": "83ee0122",
   "metadata": {},
   "outputs": [],
   "source": [
    "def scatter_plot():\n",
    "    x = np.random.rand(50)\n",
    "    y = 2 * x + np.random.normal(0, 0.1, 50)\n",
    "    plt.scatter(x, y, color='lime')\n",
    "    plt.title('Scatter Plot Example')\n",
    "    plt.xlabel('X')\n",
    "    plt.ylabel('Y')\n",
    "    plt.show()\n",
    "\n",
    "scatter_plot()"
   ]
  },
  {
   "cell_type": "markdown",
   "id": "45ef42f9",
   "metadata": {},
   "source": [
    "## 🕒 Line Chart — Change Over Time"
   ]
  },
  {
   "cell_type": "code",
   "execution_count": null,
   "id": "902c491a",
   "metadata": {},
   "outputs": [],
   "source": [
    "def line_chart():\n",
    "    time = np.arange(1, 11)\n",
    "    value = np.random.randint(10, 100, size=10)\n",
    "    plt.plot(time, value, marker='o')\n",
    "    plt.title('Line Chart Example')\n",
    "    plt.xlabel('Time')\n",
    "    plt.ylabel('Value')\n",
    "    plt.grid(True)\n",
    "    plt.show()\n",
    "\n",
    "line_chart()"
   ]
  },
  {
   "cell_type": "markdown",
   "id": "472add1b",
   "metadata": {},
   "source": [
    "## 📋 Table — Category Depth"
   ]
  },
  {
   "cell_type": "code",
   "execution_count": null,
   "id": "81b0c35f",
   "metadata": {},
   "outputs": [],
   "source": [
    "def table_display():\n",
    "    data = {'Region': ['North', 'South', 'East'], 'Sales': [200, 150, 180]}\n",
    "    df = pd.DataFrame(data)\n",
    "    display(df)\n",
    "\n",
    "table_display()"
   ]
  }
 ],
 "metadata": {},
 "nbformat": 4,
 "nbformat_minor": 5
}
